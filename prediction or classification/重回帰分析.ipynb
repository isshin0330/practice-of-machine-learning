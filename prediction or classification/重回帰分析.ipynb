{
 "cells": [
  {
   "cell_type": "code",
   "execution_count": 1,
   "metadata": {},
   "outputs": [],
   "source": [
    "import pandas as pd\n",
    "import numpy as np\n",
    "from sklearn.svm import SVR\n",
    "from sklearn.linear_model import LinearRegression\n",
    "from sklearn.ensemble import RandomForestRegressor"
   ]
  },
  {
   "cell_type": "code",
   "execution_count": 7,
   "metadata": {},
   "outputs": [
    {
     "data": {
      "text/html": [
       "<div>\n",
       "<style scoped>\n",
       "    .dataframe tbody tr th:only-of-type {\n",
       "        vertical-align: middle;\n",
       "    }\n",
       "\n",
       "    .dataframe tbody tr th {\n",
       "        vertical-align: top;\n",
       "    }\n",
       "\n",
       "    .dataframe thead th {\n",
       "        text-align: right;\n",
       "    }\n",
       "</style>\n",
       "<table border=\"1\" class=\"dataframe\">\n",
       "  <thead>\n",
       "    <tr style=\"text-align: right;\">\n",
       "      <th></th>\n",
       "      <th>集計年</th>\n",
       "      <th>都道府県コード</th>\n",
       "      <th>都道府県名</th>\n",
       "      <th>総人口</th>\n",
       "    </tr>\n",
       "  </thead>\n",
       "  <tbody>\n",
       "    <tr>\n",
       "      <th>7</th>\n",
       "      <td>1960</td>\n",
       "      <td>8</td>\n",
       "      <td>茨城県</td>\n",
       "      <td>2047024.0</td>\n",
       "    </tr>\n",
       "    <tr>\n",
       "      <th>8</th>\n",
       "      <td>1960</td>\n",
       "      <td>9</td>\n",
       "      <td>栃木県</td>\n",
       "      <td>1513624.0</td>\n",
       "    </tr>\n",
       "    <tr>\n",
       "      <th>9</th>\n",
       "      <td>1960</td>\n",
       "      <td>10</td>\n",
       "      <td>群馬県</td>\n",
       "      <td>1578476.0</td>\n",
       "    </tr>\n",
       "    <tr>\n",
       "      <th>10</th>\n",
       "      <td>1960</td>\n",
       "      <td>11</td>\n",
       "      <td>埼玉県</td>\n",
       "      <td>2430871.0</td>\n",
       "    </tr>\n",
       "    <tr>\n",
       "      <th>11</th>\n",
       "      <td>1960</td>\n",
       "      <td>12</td>\n",
       "      <td>千葉県</td>\n",
       "      <td>2306010.0</td>\n",
       "    </tr>\n",
       "    <tr>\n",
       "      <th>12</th>\n",
       "      <td>1960</td>\n",
       "      <td>13</td>\n",
       "      <td>東京都</td>\n",
       "      <td>9683802.0</td>\n",
       "    </tr>\n",
       "    <tr>\n",
       "      <th>13</th>\n",
       "      <td>1960</td>\n",
       "      <td>14</td>\n",
       "      <td>神奈川県</td>\n",
       "      <td>3443176.0</td>\n",
       "    </tr>\n",
       "  </tbody>\n",
       "</table>\n",
       "</div>"
      ],
      "text/plain": [
       "     集計年  都道府県コード 都道府県名        総人口\n",
       "7   1960        8   茨城県  2047024.0\n",
       "8   1960        9   栃木県  1513624.0\n",
       "9   1960       10   群馬県  1578476.0\n",
       "10  1960       11   埼玉県  2430871.0\n",
       "11  1960       12   千葉県  2306010.0\n",
       "12  1960       13   東京都  9683802.0\n",
       "13  1960       14  神奈川県  3443176.0"
      ]
     },
     "execution_count": 7,
     "metadata": {},
     "output_type": "execute_result"
    }
   ],
   "source": [
    "df = pd.read_csv('japan_population.csv')\n",
    "df.head()\n",
    "df[(df[\"集計年\"]==1960) & (df[\"都道府県コード\"]>=8) & (df[\"都道府県コード\"]<=14)]"
   ]
  },
  {
   "cell_type": "code",
   "execution_count": 11,
   "metadata": {},
   "outputs": [
    {
     "data": {
      "text/plain": [
       "array([[      1,       0,       0,       0,       0,       0, 2047024],\n",
       "       [      0,       1,       0,       0,       0,       0, 1513624],\n",
       "       [      0,       0,       1,       0,       0,       0, 1578476],\n",
       "       [      0,       0,       0,       1,       0,       0, 2430871],\n",
       "       [      0,       0,       0,       0,       1,       0, 2306010],\n",
       "       [      0,       0,       0,       0,       0,       1, 9683802],\n",
       "       [      0,       0,       0,       0,       0,       0, 3443176],\n",
       "       [      1,       0,       0,       0,       0,       0, 2053000],\n",
       "       [      0,       1,       0,       0,       0,       0, 1513000],\n",
       "       [      0,       0,       1,       0,       0,       0, 1581000]],\n",
       "      dtype=uint32)"
      ]
     },
     "execution_count": 11,
     "metadata": {},
     "output_type": "execute_result"
    }
   ],
   "source": [
    "#1960から2015までを機械学習にかける、ゆえに56行、それが7都道府県分あるので56＊7行\n",
    "#また関東の都道府県は7個つまりマッピングすると6列、これに人口の列を足して計7列\n",
    "X = np.zeros((56*7,7),dtype=np.uint32)\n",
    "y = np.zeros(56*7,dtype=np.uint32)\n",
    "\n",
    "cnt = 0\n",
    "for i in range(47*56):\n",
    "    pref_code = df.iloc[i,1]\n",
    "    population = df.iloc[i,3]\n",
    "    next_population = df.iloc[i+47,3]\n",
    "    \n",
    "    if 8<=pref_code and 14>=pref_code:\n",
    "        if pref_code<14:\n",
    "            X[cnt][pref_code-8] = 1\n",
    "            \n",
    "        X[cnt][6] = population\n",
    "        y[cnt] = next_population\n",
    "            \n",
    "        cnt+=1\n",
    "        \n",
    "X[0:10]"
   ]
  },
  {
   "cell_type": "code",
   "execution_count": 25,
   "metadata": {},
   "outputs": [
    {
     "data": {
      "text/html": [
       "<div>\n",
       "<style scoped>\n",
       "    .dataframe tbody tr th:only-of-type {\n",
       "        vertical-align: middle;\n",
       "    }\n",
       "\n",
       "    .dataframe tbody tr th {\n",
       "        vertical-align: top;\n",
       "    }\n",
       "\n",
       "    .dataframe thead th {\n",
       "        text-align: right;\n",
       "    }\n",
       "</style>\n",
       "<table border=\"1\" class=\"dataframe\">\n",
       "  <thead>\n",
       "    <tr style=\"text-align: right;\">\n",
       "      <th></th>\n",
       "      <th>総人口</th>\n",
       "      <th>都道府県名_埼玉県</th>\n",
       "      <th>都道府県名_東京都</th>\n",
       "      <th>都道府県名_栃木県</th>\n",
       "      <th>都道府県名_神奈川県</th>\n",
       "      <th>都道府県名_群馬県</th>\n",
       "      <th>都道府県名_茨城県</th>\n",
       "    </tr>\n",
       "  </thead>\n",
       "  <tbody>\n",
       "    <tr>\n",
       "      <th>7</th>\n",
       "      <td>2047024.0</td>\n",
       "      <td>0</td>\n",
       "      <td>0</td>\n",
       "      <td>0</td>\n",
       "      <td>0</td>\n",
       "      <td>0</td>\n",
       "      <td>1</td>\n",
       "    </tr>\n",
       "    <tr>\n",
       "      <th>8</th>\n",
       "      <td>1513624.0</td>\n",
       "      <td>0</td>\n",
       "      <td>0</td>\n",
       "      <td>1</td>\n",
       "      <td>0</td>\n",
       "      <td>0</td>\n",
       "      <td>0</td>\n",
       "    </tr>\n",
       "    <tr>\n",
       "      <th>9</th>\n",
       "      <td>1578476.0</td>\n",
       "      <td>0</td>\n",
       "      <td>0</td>\n",
       "      <td>0</td>\n",
       "      <td>0</td>\n",
       "      <td>1</td>\n",
       "      <td>0</td>\n",
       "    </tr>\n",
       "    <tr>\n",
       "      <th>10</th>\n",
       "      <td>2430871.0</td>\n",
       "      <td>1</td>\n",
       "      <td>0</td>\n",
       "      <td>0</td>\n",
       "      <td>0</td>\n",
       "      <td>0</td>\n",
       "      <td>0</td>\n",
       "    </tr>\n",
       "    <tr>\n",
       "      <th>11</th>\n",
       "      <td>2306010.0</td>\n",
       "      <td>0</td>\n",
       "      <td>0</td>\n",
       "      <td>0</td>\n",
       "      <td>0</td>\n",
       "      <td>0</td>\n",
       "      <td>0</td>\n",
       "    </tr>\n",
       "    <tr>\n",
       "      <th>12</th>\n",
       "      <td>9683802.0</td>\n",
       "      <td>0</td>\n",
       "      <td>1</td>\n",
       "      <td>0</td>\n",
       "      <td>0</td>\n",
       "      <td>0</td>\n",
       "      <td>0</td>\n",
       "    </tr>\n",
       "    <tr>\n",
       "      <th>13</th>\n",
       "      <td>3443176.0</td>\n",
       "      <td>0</td>\n",
       "      <td>0</td>\n",
       "      <td>0</td>\n",
       "      <td>1</td>\n",
       "      <td>0</td>\n",
       "      <td>0</td>\n",
       "    </tr>\n",
       "    <tr>\n",
       "      <th>54</th>\n",
       "      <td>2053000.0</td>\n",
       "      <td>0</td>\n",
       "      <td>0</td>\n",
       "      <td>0</td>\n",
       "      <td>0</td>\n",
       "      <td>0</td>\n",
       "      <td>1</td>\n",
       "    </tr>\n",
       "    <tr>\n",
       "      <th>55</th>\n",
       "      <td>1513000.0</td>\n",
       "      <td>0</td>\n",
       "      <td>0</td>\n",
       "      <td>1</td>\n",
       "      <td>0</td>\n",
       "      <td>0</td>\n",
       "      <td>0</td>\n",
       "    </tr>\n",
       "    <tr>\n",
       "      <th>56</th>\n",
       "      <td>1581000.0</td>\n",
       "      <td>0</td>\n",
       "      <td>0</td>\n",
       "      <td>0</td>\n",
       "      <td>0</td>\n",
       "      <td>1</td>\n",
       "      <td>0</td>\n",
       "    </tr>\n",
       "    <tr>\n",
       "      <th>57</th>\n",
       "      <td>2497000.0</td>\n",
       "      <td>1</td>\n",
       "      <td>0</td>\n",
       "      <td>0</td>\n",
       "      <td>0</td>\n",
       "      <td>0</td>\n",
       "      <td>0</td>\n",
       "    </tr>\n",
       "    <tr>\n",
       "      <th>58</th>\n",
       "      <td>2356000.0</td>\n",
       "      <td>0</td>\n",
       "      <td>0</td>\n",
       "      <td>0</td>\n",
       "      <td>0</td>\n",
       "      <td>0</td>\n",
       "      <td>0</td>\n",
       "    </tr>\n",
       "    <tr>\n",
       "      <th>59</th>\n",
       "      <td>9967000.0</td>\n",
       "      <td>0</td>\n",
       "      <td>1</td>\n",
       "      <td>0</td>\n",
       "      <td>0</td>\n",
       "      <td>0</td>\n",
       "      <td>0</td>\n",
       "    </tr>\n",
       "    <tr>\n",
       "      <th>60</th>\n",
       "      <td>3606000.0</td>\n",
       "      <td>0</td>\n",
       "      <td>0</td>\n",
       "      <td>0</td>\n",
       "      <td>1</td>\n",
       "      <td>0</td>\n",
       "      <td>0</td>\n",
       "    </tr>\n",
       "  </tbody>\n",
       "</table>\n",
       "</div>"
      ],
      "text/plain": [
       "          総人口  都道府県名_埼玉県  都道府県名_東京都  都道府県名_栃木県  都道府県名_神奈川県  都道府県名_群馬県  \\\n",
       "7   2047024.0          0          0          0           0          0   \n",
       "8   1513624.0          0          0          1           0          0   \n",
       "9   1578476.0          0          0          0           0          1   \n",
       "10  2430871.0          1          0          0           0          0   \n",
       "11  2306010.0          0          0          0           0          0   \n",
       "12  9683802.0          0          1          0           0          0   \n",
       "13  3443176.0          0          0          0           1          0   \n",
       "54  2053000.0          0          0          0           0          0   \n",
       "55  1513000.0          0          0          1           0          0   \n",
       "56  1581000.0          0          0          0           0          1   \n",
       "57  2497000.0          1          0          0           0          0   \n",
       "58  2356000.0          0          0          0           0          0   \n",
       "59  9967000.0          0          1          0           0          0   \n",
       "60  3606000.0          0          0          0           1          0   \n",
       "\n",
       "    都道府県名_茨城県  \n",
       "7           1  \n",
       "8           0  \n",
       "9           0  \n",
       "10          0  \n",
       "11          0  \n",
       "12          0  \n",
       "13          0  \n",
       "54          1  \n",
       "55          0  \n",
       "56          0  \n",
       "57          0  \n",
       "58          0  \n",
       "59          0  \n",
       "60          0  "
      ]
     },
     "execution_count": 25,
     "metadata": {},
     "output_type": "execute_result"
    }
   ],
   "source": [
    "df1 = df[(df[\"都道府県コード\"]>=8) & (df[\"都道府県コード\"]<=14) & (df[\"集計年\"]<=2015)]\n",
    "#df1.head(50)\n",
    "df1_mapping = pd.get_dummies(df1[[\"都道府県名\",\"総人口\"]],drop_first=True)\n",
    "df1_mapping.head(14)\n",
    "#print(df1_mapping.shape)"
   ]
  },
  {
   "cell_type": "code",
   "execution_count": 36,
   "metadata": {},
   "outputs": [
    {
     "data": {
      "text/plain": [
       "54    2053000.0\n",
       "55    1513000.0\n",
       "56    1581000.0\n",
       "57    2497000.0\n",
       "58    2356000.0\n",
       "Name: 総人口, dtype: float64"
      ]
     },
     "execution_count": 36,
     "metadata": {},
     "output_type": "execute_result"
    }
   ],
   "source": [
    "y1 = df[(df[\"都道府県コード\"]>=8) & (df[\"都道府県コード\"]<=14) & (df[\"集計年\"]<=2016) & (df[\"集計年\"]>=1961)]\n",
    "y1.head()\n",
    "y1 = y1[\"総人口\"]\n",
    "y1.head()"
   ]
  },
  {
   "cell_type": "code",
   "execution_count": 60,
   "metadata": {},
   "outputs": [
    {
     "name": "stdout",
     "output_type": "stream",
     "text": [
      "[[2047024       0       0       0       0       0       1]\n",
      " [1513624       0       0       1       0       0       0]\n",
      " [1578476       0       0       0       0       1       0]\n",
      " [2430871       1       0       0       0       0       0]\n",
      " [2306010       0       0       0       0       0       0]\n",
      " [9683802       0       1       0       0       0       0]\n",
      " [3443176       0       0       0       1       0       0]\n",
      " [2053000       0       0       0       0       0       1]\n",
      " [1513000       0       0       1       0       0       0]\n",
      " [1581000       0       0       0       0       1       0]\n",
      " [2497000       1       0       0       0       0       0]\n",
      " [2356000       0       0       0       0       0       0]\n",
      " [9967000       0       1       0       0       0       0]\n",
      " [3606000       0       0       0       1       0       0]]\n",
      "[ 2053000  1513000  1581000  2497000  2356000  9967000  3606000  2056000\n",
      "  1513000  1584000  2588000  2428000 10224000  3801000]\n"
     ]
    },
    {
     "data": {
      "text/plain": [
       "2"
      ]
     },
     "execution_count": 60,
     "metadata": {},
     "output_type": "execute_result"
    }
   ],
   "source": [
    "X1 = df1_mapping.values\n",
    "X1 = np.array(X1,dtype=np.int32)\n",
    "y1 = np.array(y1,dtype=np.int32)\n",
    "print(X1[0:14])\n",
    "print(y1[0:14])\n",
    "X1.ndim"
   ]
  },
  {
   "cell_type": "code",
   "execution_count": 47,
   "metadata": {},
   "outputs": [],
   "source": [
    "X1_train = X1[:350]\n",
    "X1_test = X1[350:]\n",
    "y1_train = y1[:350]\n",
    "y1_test = y1[350:]"
   ]
  },
  {
   "cell_type": "code",
   "execution_count": 49,
   "metadata": {},
   "outputs": [
    {
     "data": {
      "text/plain": [
       "LinearRegression(copy_X=True, fit_intercept=True, n_jobs=1, normalize=False)"
      ]
     },
     "execution_count": 49,
     "metadata": {},
     "output_type": "execute_result"
    }
   ],
   "source": [
    "from sklearn.linear_model import LinearRegression\n",
    "model1 = LinearRegression()\n",
    "model1.fit(X1_train,y1_train)"
   ]
  },
  {
   "cell_type": "code",
   "execution_count": 58,
   "metadata": {},
   "outputs": [
    {
     "name": "stdout",
     "output_type": "stream",
     "text": [
      "[ 2976504  2011342  2011854  7234625  6247455 13182582  9095368  2967043\n",
      "  2003902  2005009  7248612  6248144 13219973  9106668  2954454  1996155\n",
      "  1998231  7255390  6231681 13254834  9116352  2944770  1990345  1990484\n",
      "  7267011  6232650 13325526  9129909  2935086  1984534  1983705  7285410\n",
      "  6240397 13414617  9148308  2925379  1978971  1978006  7304327  6253631\n",
      " 13527211  9170788]\n",
      "[ 2960000  2000000  2001000  7209000  6217000 13198000  9060000  2947000\n",
      "  1992000  1994000  7216000  6200000 13234000  9070000  2937000  1986000\n",
      "  1986000  7228000  6201000 13307000  9084000  2927000  1980000  1979000\n",
      "  7247000  6209000 13399000  9103000  2916976  1974255  1973115  7266534\n",
      "  6222666 13515271  9126214  2905000  1966000  1967000  7289000  6236000\n",
      " 13624000  9145000]\n"
     ]
    },
    {
     "data": {
      "text/plain": [
       "[<matplotlib.lines.Line2D at 0x7f644d5177b8>]"
      ]
     },
     "execution_count": 58,
     "metadata": {},
     "output_type": "execute_result"
    },
    {
     "data": {
      "image/png": "[encoded data removed]",
      "text/plain": [
       "<Figure size 432x288 with 1 Axes>"
      ]
     },
     "metadata": {
      "needs_background": "light"
     },
     "output_type": "display_data"
    }
   ],
   "source": [
    "y1_pred = model1.predict(X1_test)\n",
    "y1_pred = np.array(y1_pred,dtype=np.int32)\n",
    "print(y1_pred)\n",
    "print(y1_test)\n",
    "import matplotlib.pyplot as plt\n",
    "plt.plot(y1_pred)\n",
    "plt.plot(y1_test)"
   ]
  },
  {
   "cell_type": "code",
   "execution_count": 65,
   "metadata": {},
   "outputs": [
    {
     "name": "stdout",
     "output_type": "stream",
     "text": [
      "cccCCC\n",
      "6\n"
     ]
    }
   ],
   "source": [
    "S = input()\n",
    "number_of_C = S.count(\"C\")\n",
    "number_of_c = S.count(\"c\")\n",
    "total_c = number_of_C + number_of_c\n",
    "print(total_c)"
   ]
  },
  {
   "cell_type": "code",
   "execution_count": null,
   "metadata": {},
   "outputs": [],
   "source": []
  }
 ],
 "metadata": {
  "kernelspec": {
   "display_name": "Python 3",
   "language": "python",
   "name": "python3"
  },
  "language_info": {
   "codemirror_mode": {
    "name": "ipython",
    "version": 3
   },
   "file_extension": ".py",
   "mimetype": "text/x-python",
   "name": "python",
   "nbconvert_exporter": "python",
   "pygments_lexer": "ipython3",
   "version": "3.6.5"
  }
 },
 "nbformat": 4,
 "nbformat_minor": 4
}
