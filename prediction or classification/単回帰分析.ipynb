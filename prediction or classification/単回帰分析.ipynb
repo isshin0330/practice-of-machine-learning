{
 "cells": [
  {
   "cell_type": "code",
   "execution_count": 11,
   "metadata": {},
   "outputs": [
    {
     "name": "stdout",
     "output_type": "stream",
     "text": [
      "[1, 2, 3, 4, 5]\n"
     ]
    }
   ],
   "source": [
    "li = [4,2,3,5,1]\n",
    "def selection_sort(li):\n",
    "    for i in range(0,len(li)-1):\n",
    "        for j in range(i+1,len(li)):\n",
    "            if li[i]>li[j]:\n",
    "                tem=li[i]\n",
    "                li[i]=li[j]\n",
    "                li[j]=tem\n",
    "                \n",
    "    return li\n",
    "\n",
    "li = selection_sort(li)\n",
    "print(li)"
   ]
  },
  {
   "cell_type": "code",
   "execution_count": 19,
   "metadata": {},
   "outputs": [
    {
     "name": "stdout",
     "output_type": "stream",
     "text": [
      "[1, 2, 3, 4, 5]\n"
     ]
    }
   ],
   "source": [
    "li = [4,2,3,5,1]\n",
    "#def bubble_sort(li):\n",
    "#    for i in range(len(li),0,-1):\n",
    " #       for j in range(i,1,-1):\n",
    "  #          if li[j]<li[j-1]:\n",
    "   #             tem=li[j]\n",
    "    #            li[j]=li[j-1]\n",
    "     #           li[j-1]=tem\n",
    "                \n",
    "    #return li\n",
    "\n",
    "def bubble_sort1(li):\n",
    "    for i in range(len(li)-1):\n",
    "        for j in range(len(li)-1,0,-1):\n",
    "            if li[j]<li[j-1]:\n",
    "                tem=li[j]\n",
    "                li[j]=li[j-1]\n",
    "                li[j-1]=tem\n",
    "                \n",
    "    return li\n",
    "li = bubble_sort1(li)\n",
    "print(li)"
   ]
  },
  {
   "cell_type": "code",
   "execution_count": 29,
   "metadata": {},
   "outputs": [
    {
     "name": "stdout",
     "output_type": "stream",
     "text": [
      "[1, 2, 3, 4, 5]\n"
     ]
    }
   ],
   "source": [
    "li = [4,2,3,5,1]\n",
    "\n",
    "def incertion_sort(li):\n",
    "    new_li = []\n",
    "    \n",
    "    for i in range(0,len(li)):\n",
    "        new_li.append(li[i])\n",
    "        \n",
    "        for j in range(i,0,-1):\n",
    "            if new_li[j]<new_li[j-1]:\n",
    "                tem=new_li[j-1]\n",
    "                new_li[j-1]=new_li[j]\n",
    "                new_li[j]=tem\n",
    "            else:\n",
    "                continue\n",
    "    return new_li\n",
    "\n",
    "li = [4, 2, 3, 5, 1]\n",
    "li = incertion_sort(li)  # 実行したいソートの関数名に書き換えること\n",
    "print(li)"
   ]
  },
  {
   "cell_type": "code",
   "execution_count": null,
   "metadata": {},
   "outputs": [],
   "source": []
  }
 ],
 "metadata": {
  "kernelspec": {
   "display_name": "Python 3",
   "language": "python",
   "name": "python3"
  },
  "language_info": {
   "codemirror_mode": {
    "name": "ipython",
    "version": 3
   },
   "file_extension": ".py",
   "mimetype": "text/x-python",
   "name": "python",
   "nbconvert_exporter": "python",
   "pygments_lexer": "ipython3",
   "version": "3.6.5"
  }
 },
 "nbformat": 4,
 "nbformat_minor": 4
}
